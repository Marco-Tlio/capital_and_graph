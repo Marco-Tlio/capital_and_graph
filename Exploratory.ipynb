{
 "cells": [
  {
   "cell_type": "code",
   "execution_count": 1,
   "metadata": {},
   "outputs": [],
   "source": [
    "import script.create_new_csv\n",
    "import script.create_new_images\n"
   ]
  },
  {
   "cell_type": "code",
   "execution_count": 2,
   "metadata": {},
   "outputs": [
    {
     "name": "stdout",
     "output_type": "stream",
     "text": [
      "The new database was created in: \n",
      " ./data/new_accumulated_capital.csv\n"
     ]
    }
   ],
   "source": [
    "script.create_new_csv.create_new_csv()"
   ]
  },
  {
   "cell_type": "code",
   "execution_count": 3,
   "metadata": {},
   "outputs": [
    {
     "name": "stdout",
     "output_type": "stream",
     "text": [
      "The new database was created in: \n",
      " ./data/new_accumulated_capital.csv\n"
     ]
    }
   ],
   "source": [
    "script.create_new_csv.create_new_csv()"
   ]
  },
  {
   "cell_type": "markdown",
   "metadata": {},
   "source": [
    "# Exploratory"
   ]
  },
  {
   "cell_type": "code",
   "execution_count": 4,
   "metadata": {},
   "outputs": [
    {
     "data": {
      "text/html": [
       "<div>\n",
       "<style scoped>\n",
       "    .dataframe tbody tr th:only-of-type {\n",
       "        vertical-align: middle;\n",
       "    }\n",
       "\n",
       "    .dataframe tbody tr th {\n",
       "        vertical-align: top;\n",
       "    }\n",
       "\n",
       "    .dataframe thead th {\n",
       "        text-align: right;\n",
       "    }\n",
       "</style>\n",
       "<table border=\"1\" class=\"dataframe\">\n",
       "  <thead>\n",
       "    <tr style=\"text-align: right;\">\n",
       "      <th></th>\n",
       "      <th>Unnamed: 0</th>\n",
       "      <th>initial_age</th>\n",
       "      <th>weight</th>\n",
       "      <th>family_kind</th>\n",
       "      <th>race</th>\n",
       "      <th>marital_status</th>\n",
       "      <th>accumulated_capital</th>\n",
       "      <th>annual_contribution</th>\n",
       "      <th>income</th>\n",
       "    </tr>\n",
       "  </thead>\n",
       "  <tbody>\n",
       "    <tr>\n",
       "      <th>0</th>\n",
       "      <td>0</td>\n",
       "      <td>57</td>\n",
       "      <td>616</td>\n",
       "      <td>2</td>\n",
       "      <td>1</td>\n",
       "      <td>3</td>\n",
       "      <td>-153263.200759</td>\n",
       "      <td>0.23</td>\n",
       "      <td>42658.02</td>\n",
       "    </tr>\n",
       "    <tr>\n",
       "      <th>1</th>\n",
       "      <td>1</td>\n",
       "      <td>45</td>\n",
       "      <td>591</td>\n",
       "      <td>1</td>\n",
       "      <td>1</td>\n",
       "      <td>1</td>\n",
       "      <td>161474.307306</td>\n",
       "      <td>0.24</td>\n",
       "      <td>248327.61</td>\n",
       "    </tr>\n",
       "    <tr>\n",
       "      <th>2</th>\n",
       "      <td>2</td>\n",
       "      <td>59</td>\n",
       "      <td>613</td>\n",
       "      <td>1</td>\n",
       "      <td>1</td>\n",
       "      <td>1</td>\n",
       "      <td>14209.331170</td>\n",
       "      <td>0.09</td>\n",
       "      <td>24371.94</td>\n",
       "    </tr>\n",
       "    <tr>\n",
       "      <th>3</th>\n",
       "      <td>3</td>\n",
       "      <td>62</td>\n",
       "      <td>656</td>\n",
       "      <td>1</td>\n",
       "      <td>1</td>\n",
       "      <td>1</td>\n",
       "      <td>-77270.897162</td>\n",
       "      <td>0.17</td>\n",
       "      <td>48788.04</td>\n",
       "    </tr>\n",
       "    <tr>\n",
       "      <th>4</th>\n",
       "      <td>4</td>\n",
       "      <td>45</td>\n",
       "      <td>567</td>\n",
       "      <td>2</td>\n",
       "      <td>1</td>\n",
       "      <td>5</td>\n",
       "      <td>282353.182490</td>\n",
       "      <td>0.22</td>\n",
       "      <td>47808.66</td>\n",
       "    </tr>\n",
       "  </tbody>\n",
       "</table>\n",
       "</div>"
      ],
      "text/plain": [
       "   Unnamed: 0  initial_age  weight  family_kind  race  marital_status  \\\n",
       "0           0           57     616            2     1               3   \n",
       "1           1           45     591            1     1               1   \n",
       "2           2           59     613            1     1               1   \n",
       "3           3           62     656            1     1               1   \n",
       "4           4           45     567            2     1               5   \n",
       "\n",
       "   accumulated_capital  annual_contribution     income  \n",
       "0       -153263.200759                 0.23   42658.02  \n",
       "1        161474.307306                 0.24  248327.61  \n",
       "2         14209.331170                 0.09   24371.94  \n",
       "3        -77270.897162                 0.17   48788.04  \n",
       "4        282353.182490                 0.22   47808.66  "
      ]
     },
     "execution_count": 4,
     "metadata": {},
     "output_type": "execute_result"
    }
   ],
   "source": [
    "import pandas as pd\n",
    "import numpy as np\n",
    "from os import getcwd\n",
    "\n",
    "#to get the current working directory\n",
    "directory = getcwd()\n",
    "df_raw = pd.read_csv(directory+\"/data/data_raw.csv\")\n",
    "df_raw.head()\n"
   ]
  },
  {
   "cell_type": "code",
   "execution_count": 5,
   "metadata": {},
   "outputs": [
    {
     "name": "stdout",
     "output_type": "stream",
     "text": [
      "<class 'pandas.core.frame.DataFrame'>\n",
      "RangeIndex: 47626 entries, 0 to 47625\n",
      "Data columns (total 9 columns):\n",
      " #   Column               Non-Null Count  Dtype  \n",
      "---  ------               --------------  -----  \n",
      " 0   Unnamed: 0           47626 non-null  int64  \n",
      " 1   initial_age          47626 non-null  int64  \n",
      " 2   weight               47626 non-null  int64  \n",
      " 3   family_kind          47626 non-null  int64  \n",
      " 4   race                 47626 non-null  int64  \n",
      " 5   marital_status       47626 non-null  int64  \n",
      " 6   accumulated_capital  47626 non-null  float64\n",
      " 7   annual_contribution  47626 non-null  float64\n",
      " 8   income               47626 non-null  float64\n",
      "dtypes: float64(3), int64(6)\n",
      "memory usage: 3.3 MB\n"
     ]
    }
   ],
   "source": [
    "df_raw.info()"
   ]
  },
  {
   "cell_type": "code",
   "execution_count": 6,
   "metadata": {
    "scrolled": true
   },
   "outputs": [
    {
     "data": {
      "text/html": [
       "<div>\n",
       "<style scoped>\n",
       "    .dataframe tbody tr th:only-of-type {\n",
       "        vertical-align: middle;\n",
       "    }\n",
       "\n",
       "    .dataframe tbody tr th {\n",
       "        vertical-align: top;\n",
       "    }\n",
       "\n",
       "    .dataframe thead th {\n",
       "        text-align: right;\n",
       "    }\n",
       "</style>\n",
       "<table border=\"1\" class=\"dataframe\">\n",
       "  <thead>\n",
       "    <tr style=\"text-align: right;\">\n",
       "      <th></th>\n",
       "      <th>weight</th>\n",
       "      <th>accumulated_capital</th>\n",
       "      <th>annual_contribution</th>\n",
       "      <th>income</th>\n",
       "    </tr>\n",
       "  </thead>\n",
       "  <tbody>\n",
       "    <tr>\n",
       "      <th>count</th>\n",
       "      <td>47626.000000</td>\n",
       "      <td>4.762600e+04</td>\n",
       "      <td>47626.000000</td>\n",
       "      <td>47626.000000</td>\n",
       "    </tr>\n",
       "    <tr>\n",
       "      <th>mean</th>\n",
       "      <td>1551.159535</td>\n",
       "      <td>2.483036e+04</td>\n",
       "      <td>0.175277</td>\n",
       "      <td>70240.892997</td>\n",
       "    </tr>\n",
       "    <tr>\n",
       "      <th>std</th>\n",
       "      <td>942.788098</td>\n",
       "      <td>1.705045e+05</td>\n",
       "      <td>0.101389</td>\n",
       "      <td>49720.565014</td>\n",
       "    </tr>\n",
       "    <tr>\n",
       "      <th>min</th>\n",
       "      <td>98.000000</td>\n",
       "      <td>-5.119091e+05</td>\n",
       "      <td>0.000000</td>\n",
       "      <td>250.650000</td>\n",
       "    </tr>\n",
       "    <tr>\n",
       "      <th>25%</th>\n",
       "      <td>811.250000</td>\n",
       "      <td>-8.116163e+04</td>\n",
       "      <td>0.090000</td>\n",
       "      <td>33878.760000</td>\n",
       "    </tr>\n",
       "    <tr>\n",
       "      <th>50%</th>\n",
       "      <td>1500.000000</td>\n",
       "      <td>2.280218e+04</td>\n",
       "      <td>0.180000</td>\n",
       "      <td>59084.150000</td>\n",
       "    </tr>\n",
       "    <tr>\n",
       "      <th>75%</th>\n",
       "      <td>1971.000000</td>\n",
       "      <td>1.016781e+05</td>\n",
       "      <td>0.260000</td>\n",
       "      <td>94320.602500</td>\n",
       "    </tr>\n",
       "    <tr>\n",
       "      <th>max</th>\n",
       "      <td>9349.000000</td>\n",
       "      <td>1.111905e+06</td>\n",
       "      <td>0.350000</td>\n",
       "      <td>473601.750000</td>\n",
       "    </tr>\n",
       "  </tbody>\n",
       "</table>\n",
       "</div>"
      ],
      "text/plain": [
       "             weight  accumulated_capital  annual_contribution         income\n",
       "count  47626.000000         4.762600e+04         47626.000000   47626.000000\n",
       "mean    1551.159535         2.483036e+04             0.175277   70240.892997\n",
       "std      942.788098         1.705045e+05             0.101389   49720.565014\n",
       "min       98.000000        -5.119091e+05             0.000000     250.650000\n",
       "25%      811.250000        -8.116163e+04             0.090000   33878.760000\n",
       "50%     1500.000000         2.280218e+04             0.180000   59084.150000\n",
       "75%     1971.000000         1.016781e+05             0.260000   94320.602500\n",
       "max     9349.000000         1.111905e+06             0.350000  473601.750000"
      ]
     },
     "execution_count": 6,
     "metadata": {},
     "output_type": "execute_result"
    }
   ],
   "source": [
    "df_raw[['weight','accumulated_capital','annual_contribution','income']].describe()"
   ]
  },
  {
   "cell_type": "code",
   "execution_count": 7,
   "metadata": {},
   "outputs": [
    {
     "name": "stdout",
     "output_type": "stream",
     "text": [
      "[35 36 37 38 39 40 41 42 43 44 45 46 47 48 49 50 51 52 53 54 55 56 57 58\n",
      " 59 60 61 62 63]\n"
     ]
    }
   ],
   "source": [
    "t1 = df_raw['initial_age'].unique()\n",
    "t1.sort()\n",
    "print(t1)"
   ]
  },
  {
   "cell_type": "code",
   "execution_count": 8,
   "metadata": {},
   "outputs": [
    {
     "name": "stdout",
     "output_type": "stream",
     "text": [
      "[1 2 3 4]\n"
     ]
    }
   ],
   "source": [
    "t2 = df_raw['race'].unique()\n",
    "t2.sort()\n",
    "print(t2)"
   ]
  },
  {
   "cell_type": "code",
   "execution_count": 9,
   "metadata": {},
   "outputs": [
    {
     "name": "stdout",
     "output_type": "stream",
     "text": [
      "[1 2 3]\n"
     ]
    }
   ],
   "source": [
    "t3 = df_raw['family_kind'].unique()\n",
    "t3.sort()\n",
    "print(t3)"
   ]
  },
  {
   "cell_type": "code",
   "execution_count": 10,
   "metadata": {},
   "outputs": [
    {
     "name": "stdout",
     "output_type": "stream",
     "text": [
      "[1 2 3 4 5]\n"
     ]
    }
   ],
   "source": [
    "t3 = df_raw['marital_status'].unique()\n",
    "t3.sort()\n",
    "print(t3)"
   ]
  }
 ],
 "metadata": {
  "kernelspec": {
   "display_name": "Python 3",
   "language": "python",
   "name": "python3"
  },
  "language_info": {
   "codemirror_mode": {
    "name": "ipython",
    "version": 3
   },
   "file_extension": ".py",
   "mimetype": "text/x-python",
   "name": "python",
   "nbconvert_exporter": "python",
   "pygments_lexer": "ipython3",
   "version": "3.8.10"
  }
 },
 "nbformat": 4,
 "nbformat_minor": 4
}
